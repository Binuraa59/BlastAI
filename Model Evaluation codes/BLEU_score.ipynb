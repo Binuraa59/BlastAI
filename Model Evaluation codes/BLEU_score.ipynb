{
 "cells": [
  {
   "cell_type": "code",
   "execution_count": null,
   "id": "dd80801a-61a6-47b4-8b8b-4755ceb22e9c",
   "metadata": {},
   "outputs": [],
   "source": [
    "pip install nltk"
   ]
  },
  {
   "cell_type": "code",
   "execution_count": null,
   "id": "813908e5-c318-404b-96c0-78d0996384fd",
   "metadata": {},
   "outputs": [],
   "source": [
    "import nltk\n",
    "nltk.download('punkt')"
   ]
  },
  {
   "cell_type": "code",
   "execution_count": null,
   "id": "115c380d-9819-42c9-b42a-90dc68196662",
   "metadata": {},
   "outputs": [],
   "source": [
    "import pandas as pd\n",
    "from nltk.translate.bleu_score import sentence_bleu\n",
    "from nltk.tokenize import word_tokenize\n",
    "from nltk.translate.bleu_score import SmoothingFunction"
   ]
  },
  {
   "cell_type": "code",
   "execution_count": null,
   "id": "04e7f53d-6590-4468-b0f5-8b6b85459c3b",
   "metadata": {},
   "outputs": [],
   "source": [
    "# Load the CSV file\n",
    "data = pd.read_csv(\"Data/q_and_a.csv\")"
   ]
  },
  {
   "cell_type": "code",
   "execution_count": null,
   "id": "edec94d7-22f0-484e-a9c3-fa195878ae8e",
   "metadata": {},
   "outputs": [],
   "source": [
    "# Function to calculate BLEU score\n",
    "def calculate_bleu_score(reference, candidate):\n",
    "    # Tokenize the sentences\n",
    "    reference_tokens = word_tokenize(reference.lower())\n",
    "    candidate_tokens = word_tokenize(candidate.lower())\n",
    "    \n",
    "    # BLEU expects a list of reference sentences and a candidate sentence both tokenized\n",
    "    return sentence_bleu([reference_tokens], candidate_tokens)"
   ]
  },
  {
   "cell_type": "code",
   "execution_count": null,
   "id": "390b91cd-658d-467f-b8ec-730b8235f7fa",
   "metadata": {},
   "outputs": [],
   "source": [
    "# Custom BLEU calculation with smoothing\n",
    "def calculate_bleu_score(reference, candidate):\n",
    "    reference_tokens = word_tokenize(reference.lower())\n",
    "    candidate_tokens = word_tokenize(candidate.lower())\n",
    "    \n",
    "    # Use a smoothing function\n",
    "    chencherry = SmoothingFunction()\n",
    "    \n",
    "    return sentence_bleu([reference_tokens], candidate_tokens,\n",
    "                         smoothing_function=chencherry.method1,\n",
    "                         weights=(0.1, 0.1, 0.1, 0.1))"
   ]
  },
  {
   "cell_type": "code",
   "execution_count": null,
   "id": "a503dcd4-bf97-4b6e-b552-86b85dc84e4b",
   "metadata": {},
   "outputs": [],
   "source": [
    "# Now apply this new BLEU score function in your data processing\n",
    "data['chat_gpt_bleu'] = data.apply(lambda row: calculate_bleu_score(row['reference_answer'], row['chat_gpt_answer']), axis=1)\n",
    "data['google_gemini_bleu'] = data.apply(lambda row: calculate_bleu_score(row['reference_answer'], row['google_gemini_answer']), axis=1)\n",
    "data['fine_tuned_model_bleu'] = data.apply(lambda row: calculate_bleu_score(row['reference_answer'], row['fine_tuned_model_answer']), axis=1)"
   ]
  },
  {
   "cell_type": "code",
   "execution_count": null,
   "id": "baef18ee-780a-4ed7-8702-3117cc573779",
   "metadata": {},
   "outputs": [],
   "source": [
    "# Display the first few rows to verify the results\n",
    "print(data[['reference_answer', 'chat_gpt_answer', 'chat_gpt_bleu', 'google_gemini_answer', 'google_gemini_bleu', 'fine_tuned_model_answer', 'fine_tuned_model_bleu']].head())"
   ]
  },
  {
   "cell_type": "code",
   "execution_count": null,
   "id": "eb8f88a2-8d30-410f-8673-4df69e9be02f",
   "metadata": {},
   "outputs": [],
   "source": [
    "# save the results to a new CSV file\n",
    "data.to_csv('Data/q_and_a_B.csv', index=False)"
   ]
  }
 ],
 "metadata": {
  "kernelspec": {
   "display_name": "Python 3 (ipykernel)",
   "language": "python",
   "name": "python3"
  },
  "language_info": {
   "codemirror_mode": {
    "name": "ipython",
    "version": 3
   },
   "file_extension": ".py",
   "mimetype": "text/x-python",
   "name": "python",
   "nbconvert_exporter": "python",
   "pygments_lexer": "ipython3",
   "version": "3.11.7"
  }
 },
 "nbformat": 4,
 "nbformat_minor": 5
}
