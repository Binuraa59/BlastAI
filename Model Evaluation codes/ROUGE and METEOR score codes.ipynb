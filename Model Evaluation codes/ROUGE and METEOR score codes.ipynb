{
 "cells": [
  {
   "cell_type": "code",
   "execution_count": 1,
   "id": "36125628-4e05-4651-870a-71d599ac03f5",
   "metadata": {},
   "outputs": [
    {
     "name": "stdout",
     "output_type": "stream",
     "text": [
      "Requirement already satisfied: pandas in c:\\users\\binura perera\\anaconda3\\lib\\site-packages (2.1.4)\n",
      "Requirement already satisfied: rouge in c:\\users\\binura perera\\anaconda3\\lib\\site-packages (1.0.1)\n",
      "Requirement already satisfied: nltk in c:\\users\\binura perera\\anaconda3\\lib\\site-packages (3.8.1)\n",
      "Requirement already satisfied: numpy<2,>=1.23.2 in c:\\users\\binura perera\\anaconda3\\lib\\site-packages (from pandas) (1.24.3)\n",
      "Requirement already satisfied: python-dateutil>=2.8.2 in c:\\users\\binura perera\\anaconda3\\lib\\site-packages (from pandas) (2.8.2)\n",
      "Requirement already satisfied: pytz>=2020.1 in c:\\users\\binura perera\\anaconda3\\lib\\site-packages (from pandas) (2023.3.post1)\n",
      "Requirement already satisfied: tzdata>=2022.1 in c:\\users\\binura perera\\anaconda3\\lib\\site-packages (from pandas) (2023.3)\n",
      "Requirement already satisfied: six in c:\\users\\binura perera\\anaconda3\\lib\\site-packages (from rouge) (1.16.0)\n",
      "Requirement already satisfied: click in c:\\users\\binura perera\\anaconda3\\lib\\site-packages (from nltk) (8.1.7)\n",
      "Requirement already satisfied: joblib in c:\\users\\binura perera\\anaconda3\\lib\\site-packages (from nltk) (1.2.0)\n",
      "Requirement already satisfied: regex>=2021.8.3 in c:\\users\\binura perera\\anaconda3\\lib\\site-packages (from nltk) (2023.10.3)\n",
      "Requirement already satisfied: tqdm in c:\\users\\binura perera\\anaconda3\\lib\\site-packages (from nltk) (4.65.0)\n",
      "Requirement already satisfied: colorama in c:\\users\\binura perera\\anaconda3\\lib\\site-packages (from click->nltk) (0.4.6)\n",
      "Note: you may need to restart the kernel to use updated packages.\n"
     ]
    }
   ],
   "source": [
    "pip install pandas rouge nltk"
   ]
  },
  {
   "cell_type": "code",
   "execution_count": 3,
   "id": "b1379b12-8cf1-446e-bd8e-ca3995d97e00",
   "metadata": {},
   "outputs": [
    {
     "name": "stderr",
     "output_type": "stream",
     "text": [
      "[nltk_data] Downloading package punkt to C:\\Users\\Binura\n",
      "[nltk_data]     Perera\\AppData\\Roaming\\nltk_data...\n",
      "[nltk_data]   Package punkt is already up-to-date!\n",
      "[nltk_data] Downloading package wordnet to C:\\Users\\Binura\n",
      "[nltk_data]     Perera\\AppData\\Roaming\\nltk_data...\n",
      "[nltk_data]   Package wordnet is already up-to-date!\n"
     ]
    },
    {
     "data": {
      "text/plain": [
       "True"
      ]
     },
     "execution_count": 3,
     "metadata": {},
     "output_type": "execute_result"
    }
   ],
   "source": [
    "import nltk\n",
    "nltk.download('punkt')\n",
    "nltk.download('wordnet') "
   ]
  },
  {
   "cell_type": "code",
   "execution_count": 4,
   "id": "8cfdc91c-bc23-4d7f-8fec-8caa854dd351",
   "metadata": {},
   "outputs": [],
   "source": [
    "import pandas as pd\n",
    "from nltk.tokenize import word_tokenize\n",
    "from rouge import Rouge\n",
    "from nltk.translate.meteor_score import meteor_score"
   ]
  },
  {
   "cell_type": "code",
   "execution_count": 5,
   "id": "be164e5d-b310-4d55-807b-501fd8bd001f",
   "metadata": {},
   "outputs": [],
   "source": [
    "# Load the CSV file\n",
    "data = pd.read_csv(\"Data/q_and_a.csv\")"
   ]
  },
  {
   "cell_type": "code",
   "execution_count": 6,
   "id": "e615d713-f0cf-4f87-b85a-e19839ba62c6",
   "metadata": {},
   "outputs": [
    {
     "name": "stdout",
     "output_type": "stream",
     "text": [
      "                                             question  \\\n",
      "0                                       Define a Mine   \n",
      "1                                     Define a Mining   \n",
      "2                                    Define a Mineral   \n",
      "3                                       Define a Rock   \n",
      "4                                        Define a Ore   \n",
      "..                                                ...   \n",
      "95  What are the advantages of wet grinding in min...   \n",
      "96  Explain Principles of flotation in mineral pro...   \n",
      "97            What is a Collector in Froth flotation?   \n",
      "98  What are the types of magnetic separator in mi...   \n",
      "99          What is Dewatering in mineral processing?   \n",
      "\n",
      "                                     reference_answer  \\\n",
      "0   An excavation made in the earth to extract min...   \n",
      "1   The activity, occupation, and industry concern...   \n",
      "2   A naturally occurring inorganic element or com...   \n",
      "3   Any naturally formed aggregate of one or more ...   \n",
      "4   A mineral deposit that has sufficient utility ...   \n",
      "..                                                ...   \n",
      "95  It consumes lower power per tonne of product. ...   \n",
      "96  Flotation is a physico-chemical separation pro...   \n",
      "97  Collectors are organic compounds which render ...   \n",
      "98  Magnetic separators can be classified into low...   \n",
      "99  Dewatering, or solid-liquid separation, produc...   \n",
      "\n",
      "                                      chat_gpt_answer  \\\n",
      "0   A mine typically refers to an excavation or fa...   \n",
      "1   Mining typically refers to the process of extr...   \n",
      "2   A mineral is a naturally occurring, inorganic ...   \n",
      "3   In geological terms, a rock is a naturally occ...   \n",
      "4   An \"ore\" is a naturally occurring solid materi...   \n",
      "..                                                ...   \n",
      "95  Wet grinding in mineral processing offers seve...   \n",
      "96  The principle of flotation in mineral processi...   \n",
      "97  In froth flotation, a collector is a reagent u...   \n",
      "98  In mineral processing, magnetic separators are...   \n",
      "99  Dewatering in mineral processing refers to the...   \n",
      "\n",
      "                                 google_gemini_answer  \\\n",
      "0   There are two main definitions of a mine. The ...   \n",
      "1   Mining is the process of extracting valuable r...   \n",
      "2   A mineral is naturally occurring, inorganic, s...   \n",
      "3   In geology, a rock is a naturally occurring so...   \n",
      "4   An ore is a naturally occurring rock or sedime...   \n",
      "..                                                ...   \n",
      "95  Wet grinding offers several advantages in mine...   \n",
      "96  Here's a breakdown of the principles behind fl...   \n",
      "97  In froth flotation, a collector is a crucial c...   \n",
      "98  There are several ways to classify magnetic se...   \n",
      "99  In mineral processing, dewatering is a crucial...   \n",
      "\n",
      "                              fine_tuned_model_answer  \n",
      "0   A mine is a site where minerals are extracted ...  \n",
      "1   Mining is the process of extracting minerals f...  \n",
      "2   A mineral is a naturally occurring inorganic s...  \n",
      "3   A rock is a naturally occurring solid aggregat...  \n",
      "4   An ore is a type of rock that contains mineral...  \n",
      "..                                                ...  \n",
      "95  Wet grinding is a popular method in mineral pr...  \n",
      "96  Flotation is a mineral processing technique th...  \n",
      "97  A collector is a chemical compound that is add...  \n",
      "98  Magnetic separators are devices used in minera...  \n",
      "99  Dewatering is a process used in mineral proces...  \n",
      "\n",
      "[100 rows x 5 columns]\n"
     ]
    }
   ],
   "source": [
    "print(data)"
   ]
  },
  {
   "cell_type": "code",
   "execution_count": 7,
   "id": "577cee84-dc3c-4dad-8b6a-98c6a8280d65",
   "metadata": {},
   "outputs": [],
   "source": [
    "# Initialize ROUGE scorer\n",
    "rouge = Rouge()"
   ]
  },
  {
   "cell_type": "code",
   "execution_count": 8,
   "id": "1377ad96-5d3a-485c-8d1f-723934c82eae",
   "metadata": {},
   "outputs": [],
   "source": [
    "# Function to evaluate a single row and return scores\n",
    "def evaluate_row(row):\n",
    "    # Tokenize each answer and the reference\n",
    "    reference_tokens = [word_tokenize(row['reference_answer'])]\n",
    "    chatgpt_tokens = word_tokenize(row['chat_gpt_answer'])\n",
    "    google_tokens = word_tokenize(row['google_gemini_answer'])\n",
    "    model_tokens = word_tokenize(row['fine_tuned_model_answer'])\n",
    "    \n",
    "    # Prepare data for ROUGE\n",
    "    chatgpt_text = ' '.join(chatgpt_tokens)\n",
    "    google_text = ' '.join(google_tokens)\n",
    "    model_text = ' '.join(model_tokens)\n",
    "    reference_text = ' '.join(reference_tokens[0])\n",
    "    \n",
    "    # Calculate ROUGE scores\n",
    "    chatgpt_rouge = rouge.get_scores(chatgpt_text, reference_text, avg=False)[0]\n",
    "    google_rouge = rouge.get_scores(google_text, reference_text, avg=False)[0]\n",
    "    model_rouge = rouge.get_scores(model_text, reference_text, avg=False)[0]\n",
    "    \n",
    "    # Calculate Meteor scores\n",
    "    chatgpt_meteor = meteor_score(reference_tokens, chatgpt_tokens)\n",
    "    google_meteor = meteor_score(reference_tokens, google_tokens)\n",
    "    model_meteor = meteor_score(reference_tokens, model_tokens)\n",
    "    \n",
    "    # Compile results\n",
    "    results = {\n",
    "        'chatgpt_rouge_1': chatgpt_rouge['rouge-1']['f'],\n",
    "        'chatgpt_rouge_2': chatgpt_rouge['rouge-2']['f'],\n",
    "        'chatgpt_rouge_l': chatgpt_rouge['rouge-l']['f'],\n",
    "        'chatgpt_meteor': chatgpt_meteor,\n",
    "        'google_rouge_1': google_rouge['rouge-1']['f'],\n",
    "        'google_rouge_2': google_rouge['rouge-2']['f'],\n",
    "        'google_rouge_l': google_rouge['rouge-l']['f'],\n",
    "        'google_meteor': google_meteor,\n",
    "        'model_rouge_1': model_rouge['rouge-1']['f'],\n",
    "        'model_rouge_2': model_rouge['rouge-2']['f'],\n",
    "        'model_rouge_l': model_rouge['rouge-l']['f'],\n",
    "        'model_meteor': model_meteor\n",
    "    }\n",
    "    \n",
    "    return results"
   ]
  },
  {
   "cell_type": "code",
   "execution_count": 9,
   "id": "8f1a868e-9330-46c6-aa54-621434c23d6d",
   "metadata": {},
   "outputs": [],
   "source": [
    "# Apply the function to each row in the dataframe\n",
    "scored_data = data.apply(evaluate_row, axis=1, result_type='expand')"
   ]
  },
  {
   "cell_type": "code",
   "execution_count": null,
   "id": "ed0e1eba-3517-4ecb-908a-1323489ef095",
   "metadata": {},
   "outputs": [],
   "source": [
    "# Save results\n",
    "scored_data.to_csv('Data/q_and_a_eval.csv', index=False)"
   ]
  }
 ],
 "metadata": {
  "kernelspec": {
   "display_name": "Python 3 (ipykernel)",
   "language": "python",
   "name": "python3"
  },
  "language_info": {
   "codemirror_mode": {
    "name": "ipython",
    "version": 3
   },
   "file_extension": ".py",
   "mimetype": "text/x-python",
   "name": "python",
   "nbconvert_exporter": "python",
   "pygments_lexer": "ipython3",
   "version": "3.11.7"
  }
 },
 "nbformat": 4,
 "nbformat_minor": 5
}
